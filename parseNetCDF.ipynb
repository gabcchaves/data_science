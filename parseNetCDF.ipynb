{
  "nbformat": 4,
  "nbformat_minor": 0,
  "metadata": {
    "colab": {
      "provenance": [],
      "authorship_tag": "ABX9TyP8hrutqkQCRHMdYZ0BTekk",
      "include_colab_link": true
    },
    "kernelspec": {
      "name": "ir",
      "display_name": "R"
    },
    "language_info": {
      "name": "R"
    }
  },
  "cells": [
    {
      "cell_type": "markdown",
      "metadata": {
        "id": "view-in-github",
        "colab_type": "text"
      },
      "source": [
        "<a href=\"https://colab.research.google.com/github/gabcchaves/data_science/blob/main/parseNetCDF.ipynb\" target=\"_parent\"><img src=\"https://colab.research.google.com/assets/colab-badge.svg\" alt=\"Open In Colab\"/></a>"
      ]
    },
    {
      "cell_type": "markdown",
      "source": [
        "# Programa para gerar gráficos a partir dos resultados do WRF."
      ],
      "metadata": {
        "id": "VsEr1_vo9KY1"
      }
    },
    {
      "cell_type": "markdown",
      "source": [
        "#### Instalar dependências e importá-las:"
      ],
      "metadata": {
        "id": "rqLAFDTjDQ78"
      }
    },
    {
      "cell_type": "code",
      "source": [
        "install.packages(c('ncdf4', 'raster', 'rgdal', 'ggplot2'))\n",
        "library(ncdf4) # Manipulação de arquivos netcdf\n",
        "library(raster) # Manipulação de raster.\n",
        "library(rgdal) # Análise geoespacial.\n",
        "library(ggplot2) # Plotagem."
      ],
      "metadata": {
        "colab": {
          "base_uri": "https://localhost:8080/"
        },
        "id": "HKMV424A9QQv",
        "outputId": "1b56e91b-ab00-4ed9-eb43-db4127a1e2f3"
      },
      "execution_count": 1,
      "outputs": [
        {
          "output_type": "stream",
          "name": "stderr",
          "text": [
            "Installing packages into ‘/usr/local/lib/R/site-library’\n",
            "(as ‘lib’ is unspecified)\n",
            "\n",
            "also installing the dependency ‘terra’\n",
            "\n",
            "\n",
            "Loading required package: sp\n",
            "\n",
            "The legacy packages maptools, rgdal, and rgeos, underpinning the sp package,\n",
            "which was just loaded, will retire in October 2023.\n",
            "Please refer to R-spatial evolution reports for details, especially\n",
            "https://r-spatial.org/r/2023/05/15/evolution4.html.\n",
            "It may be desirable to make the sf package available;\n",
            "package maintainers should consider adding sf to Suggests:.\n",
            "The sp package is now running under evolution status 2\n",
            "     (status 2 uses the sf package in place of rgdal)\n",
            "\n",
            "Please note that rgdal will be retired during October 2023,\n",
            "plan transition to sf/stars/terra functions using GDAL and PROJ\n",
            "at your earliest convenience.\n",
            "See https://r-spatial.org/r/2023/05/15/evolution4.html and https://github.com/r-spatial/evolution\n",
            "rgdal: version: 1.6-7, (SVN revision 1203)\n",
            "Geospatial Data Abstraction Library extensions to R successfully loaded\n",
            "Loaded GDAL runtime: GDAL 3.4.3, released 2022/04/22\n",
            "Path to GDAL shared files: /usr/share/gdal\n",
            "GDAL binary built with GEOS: TRUE \n",
            "Loaded PROJ runtime: Rel. 8.2.1, January 1st, 2022, [PJ_VERSION: 821]\n",
            "Path to PROJ shared files: /root/.local/share/proj:/usr/share/proj\n",
            "PROJ CDN enabled: TRUE\n",
            "Linking to sp version:2.0-0\n",
            "To mute warnings of possible GDAL/OSR exportToProj4() degradation,\n",
            "use options(\"rgdal_show_exportToProj4_warnings\"=\"none\") before loading sp or rgdal.\n",
            "\n"
          ]
        }
      ]
    },
    {
      "cell_type": "markdown",
      "source": [
        "#### Buscar dados netcdf:"
      ],
      "metadata": {
        "id": "YdEdOITnDrxp"
      }
    },
    {
      "cell_type": "code",
      "source": [],
      "metadata": {
        "id": "DpZDhWDaD7tW"
      },
      "execution_count": null,
      "outputs": []
    }
  ]
}